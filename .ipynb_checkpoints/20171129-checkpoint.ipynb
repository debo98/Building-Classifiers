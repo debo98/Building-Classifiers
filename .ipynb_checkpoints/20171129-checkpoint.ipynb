{
 "cells": [
  {
   "cell_type": "markdown",
   "metadata": {
    "editable": false
   },
   "source": [
    "# Assignment 1\n",
    "This jupyter notebook is meant to be used in conjunction with the full questions in the assignment pdf.\n",
    "\n",
    "## Instructions\n",
    "- Write your code and analyses in the indicated cells.\n",
    "- Ensure that this notebook runs without errors when the cells are run in sequence.\n",
    "- Do not attempt to change the contents of the other cells.\n",
    "\n",
    "## Submission\n",
    "- Ensure that this notebook runs without errors when the cells are run in sequence.\n",
    "- Rename the notebook to `<roll_number>.ipynb` and submit ONLY the notebook file on moodle."
   ]
  },
  {
   "cell_type": "markdown",
   "metadata": {
    "editable": false
   },
   "source": [
    "### Environment setup\n",
    "\n",
    "The following code reads the train and test data (provided along with this template) and outputs the data and labels as numpy arrays. Use these variables in your code.\n",
    "\n",
    "---\n",
    "#### Note on conventions\n",
    "In mathematical notation, the convention is tha data matrices are column-indexed, which means that a input data $x$ has shape $[d, n]$, where $d$ is the number of dimensions and $n$ is the number of data points, respectively.\n",
    "\n",
    "Programming languages have a slightly different convention. Data matrices are of shape $[n, d]$. This has the benefit of being able to access the ith data point as a simple `data[i]`.\n",
    "\n",
    "What this means is that you need to be careful about your handling of matrix dimensions. For example, while the covariance matrix (of shape $[d,d]$) for input data $x$ is calculated as $(x-u)(x-u)^T$, while programming you would do $(x-u)^T(x-u)$ to get the correct output shapes."
   ]
  },
  {
   "cell_type": "code",
   "execution_count": 1,
   "metadata": {
    "editable": false,
    "scrolled": true
   },
   "outputs": [
    {
     "name": "stdout",
     "output_type": "stream",
     "text": [
      "(6000, 784) (1000, 784)\n",
      "(6000,) (1000,)\n"
     ]
    }
   ],
   "source": [
    "from __future__ import print_function\n",
    "\n",
    "import numpy as np\n",
    "import matplotlib.pyplot as plt\n",
    "\n",
    "def read_data(filename):\n",
    "    with open(filename, 'r') as f:\n",
    "        lines = f.readlines()\n",
    "    \n",
    "    num_points = len(lines)\n",
    "    dim_points = 28 * 28\n",
    "    data = np.empty((num_points, dim_points))\n",
    "    labels = np.empty(num_points)\n",
    "    \n",
    "    for ind, line in enumerate(lines):\n",
    "        num = line.split(',')\n",
    "        labels[ind] = int(num[0])\n",
    "        data[ind] = [ int(x) for x in num[1:] ]\n",
    "        \n",
    "    return (data, labels)\n",
    "\n",
    "train_data, train_labels = read_data(\"sample_train.csv\")\n",
    "test_data, test_labels = read_data(\"sample_test.csv\")\n",
    "print(train_data.shape, test_data.shape)\n",
    "print(train_labels.shape, test_labels.shape)"
   ]
  },
  {
   "cell_type": "markdown",
   "metadata": {
    "editable": false
   },
   "source": [
    "# Questions\n",
    "---\n",
    "## 1.3.1 Representation\n",
    "The next code cells, when run, should plot the eigen value spectrum of the covariance matrices corresponding to the mentioned samples. Normalize the eigen value spectrum and only show the first 100 values."
   ]
  },
  {
   "cell_type": "code",
   "execution_count": 2,
   "metadata": {
    "scrolled": false
   },
   "outputs": [
    {
     "data": {
      "text/plain": [
       "<matplotlib.collections.PathCollection at 0x7fc081345160>"
      ]
     },
     "execution_count": 2,
     "metadata": {},
     "output_type": "execute_result"
    },
    {
     "data": {
      "image/png": "[encoded data removed]",
      "text/plain": [
       "<Figure size 432x288 with 1 Axes>"
      ]
     },
     "metadata": {
      "needs_background": "light"
     },
     "output_type": "display_data"
    }
   ],
   "source": [
    "# Samples corresponding to the last digit of your roll number (plot a)\n",
    "\n",
    "indices9 = np.where(train_labels == 9)\n",
    "data9 = train_data[indices9]\n",
    "\n",
    "cov9 = np.cov(data9)\n",
    "\n",
    "eigen_values9 = np.linalg.eigvals(cov9)\n",
    "eigen_values9 /= np.linalg.norm(eigen_values9)\n",
    "\n",
    "x = np.arange(100)\n",
    "plot_data9 = np.real(eigen_values9[0:100])\n",
    "plt.scatter(x, plot_data9)\n",
    "\n",
    "\n"
   ]
  },
  {
   "cell_type": "code",
   "execution_count": 3,
   "metadata": {
    "scrolled": true
   },
   "outputs": [
    {
     "data": {
      "text/plain": [
       "<matplotlib.collections.PathCollection at 0x7fc0812e05c0>"
      ]
     },
     "execution_count": 3,
     "metadata": {},
     "output_type": "execute_result"
    },
    {
     "data": {
      "image/png": "[encoded data removed]",
      "text/plain": [
       "<Figure size 432x288 with 1 Axes>"
      ]
     },
     "metadata": {
      "needs_background": "light"
     },
     "output_type": "display_data"
    }
   ],
   "source": [
    "# Samples corresponding to the last digit of (your roll number + 1) % 10 (plot b)\n",
    "\n",
    "indices0 = np.where(train_labels == 0)\n",
    "data0 = train_data[indices0]\n",
    "\n",
    "cov0 = np.cov(data0)\n",
    "\n",
    "eigen_values0 = np.linalg.eigvals(cov0)\n",
    "eigen_values0 /= np.linalg.norm(eigen_values0)\n",
    "\n",
    "x = np.arange(100)\n",
    "plot_data0 = np.real(eigen_values0[0:100])\n",
    "plt.scatter(x, plot_data0)\n"
   ]
  },
  {
   "cell_type": "code",
   "execution_count": null,
   "metadata": {},
   "outputs": [],
   "source": [
    "# All training data (plot c)\n",
    "\n",
    "data_full = train_data\n",
    "cov_full = np.cov(data_full)\n",
    "\n",
    "eigen_values_full = np.linalg.eigvals(cov_full)\n",
    "eigen_values_full /= np.linalg.norm(eigen_values_full)\n",
    "\n",
    "x = np.arange(100)\n",
    "plot_data_full = np.real(eigen_values_full[0:100])\n",
    "plt.scatter(x, plot_data_full)\n",
    "\n"
   ]
  },
  {
   "cell_type": "code",
   "execution_count": null,
   "metadata": {},
   "outputs": [],
   "source": [
    "# Randomly selected 50% of the training data (plot d)\n",
    "\n",
    "# Selecting random values \n",
    "indices50 = np.random.choice(int(train_data.shape[0]),int(train_data.shape[0]/2))\n",
    "data50 = train_data[indices50]\n",
    "cov50 = np.cov(data50)\n",
    "\n",
    "eigen_values50 = np.linalg.eigvals(cov50)\n",
    "eigen_values50 /= np.linalg.norm(eigen_values50)\n",
    "\n",
    "x = np.arange(100)\n",
    "plot_data50 = np.real(eigen_values50[0:100])\n",
    "plt.scatter(x, plot_data50)\n"
   ]
  },
  {
   "cell_type": "markdown",
   "metadata": {
    "editable": false
   },
   "source": [
    "### 1.3.1 Question 1\n",
    "- Are plots a and b different? Why?\n",
    "- Are plots b and c different? Why?\n",
    "- What are the approximate ranks of each plot?"
   ]
  },
  {
   "cell_type": "markdown",
   "metadata": {},
   "source": [
    "---\n",
    "\n",
    "Plots A and B are slightly different because their distributions are different and hence eigen values are different.\n",
    "\n",
    "Plots B and C differ because B has very few significant eigen values, but since C includes the samples for all classes, it has more number of significant eigen values, hence the plot is not as steep as Plot B. This is clearly visible in the plots. \n",
    "\n",
    "Approximate Ranks can be seen by observing where the eigen values start to become zero. In the first two plots, this appears to be near 450 and in the last two plots, around 600-650\n",
    "\n",
    "---"
   ]
  },
  {
   "cell_type": "markdown",
   "metadata": {
    "editable": false
   },
   "source": [
    "### 1.3.1 Question 2\n",
    "- How many possible images could there be?\n",
    "- What percentage is accessible to us as MNIST data?\n",
    "- If we had acces to all the data, how would the eigen value spectrum of the covariance matrix look?"
   ]
  },
  {
   "cell_type": "markdown",
   "metadata": {},
   "source": [
    "---\n",
    "Each of the 784 features per sample can take values from 0 to 255 (256 values). Hence, total possible images can be (256)^(784)\n",
    "\n",
    "Percentage avaiable to us is 7000/(256)^(784)*100 as total data with 6000/(256)^(784)*100 as training data and 1000/(256)^(784)*100 as test data.\n",
    "\n",
    "If we had access to all the data, the covariance matrix will be a diagonal matrix with equal eigen values and the plot will be a straight line. \n",
    "\n",
    "---"
   ]
  },
  {
   "cell_type": "markdown",
   "metadata": {
    "editable": false
   },
   "source": [
    "## 1.3.2 Linear Transformation\n",
    "---\n",
    "### 1.3.2 Question 1\n",
    "How does the eigen spectrum change if the original data was multiplied by an orthonormal matrix? Answer analytically and then also validate experimentally."
   ]
  },
  {
   "cell_type": "markdown",
   "metadata": {},
   "source": [
    "Multiplying by an orthonormal matrix will only rotate the data, but not change the relative positions (or distances) of the plot points. Eigen values remain the same, and so will the plot. Eigen vectors can change.\n"
   ]
  },
  {
   "cell_type": "code",
   "execution_count": null,
   "metadata": {},
   "outputs": [],
   "source": [
    "# Experimental validation here.\n",
    "# Multiply your data (train_data) with an orthonormal matrix and plot the\n",
    "# eigen value specturm of the new covariance matrix.\n",
    "\n",
    "# code goes here\n",
    "\n",
    "randmatrix = np.random.randn(train_data.shape[0], train_data.shape[0])\n",
    "Qdecomposition, _ = np.linalg.qr(randmatrix)\n",
    "\n",
    "ortho_train_data = np.dot(Qdecomposition, train_data)\n",
    "\n",
    "covar = np.cov(ortho_train_data)\n",
    "\n",
    "eigen_values = np.linalg.eigvals(covar)\n",
    "eigen_values /= np.linalg.norm(eigen_values)\n",
    "\n",
    "x = np.arange(100)\n",
    "plot_data = np.real(eigen_values[0:100])\n",
    "plt.scatter(x, plot_data)\n",
    "\n"
   ]
  },
  {
   "cell_type": "markdown",
   "metadata": {
    "editable": false
   },
   "source": [
    "### 1.3.2 Question 2\n",
    "If  samples  were  multiplied  by  784 × 784  matrix  of rank 1 or 2, (rank deficient matrices), how will the eigen spectrum look like?"
   ]
  },
  {
   "cell_type": "markdown",
   "metadata": {},
   "source": [
    "When multiplied by a rank deficient matrix with rank R, the data will assume the rank of the rank deficient matrix (R) and the eigen spectrum will hence have only R non-zero eigen values. It will be a very steep exponential curve."
   ]
  },
  {
   "cell_type": "markdown",
   "metadata": {
    "editable": false
   },
   "source": [
    "### 1.3.2 Question 3\n",
    "Project the original data into the first and second eigenvectors and plot in 2D"
   ]
  },
  {
   "cell_type": "code",
   "execution_count": null,
   "metadata": {},
   "outputs": [],
   "source": [
    "# Plotting code here\n",
    "\n",
    "covar = np.cov(train_data)\n",
    "\n",
    "_, eigen_vectors = np.linalg.eig(covar)\n",
    "\n",
    "data_new = np.dot(eigen_vectors[:,0:2].T, train_data)\n",
    "plt.scatter(data_new[1],data_new[0])"
   ]
  },
  {
   "cell_type": "markdown",
   "metadata": {
    "editable": false
   },
   "source": [
    "## 1.3.3 Probabilistic View\n",
    "---\n",
    "In this section you will classify the test set by fitting multivariate gaussians on the train set, with different choices for decision boundaries. On running, your code should print the accuracy on your test set."
   ]
  },
  {
   "cell_type": "code",
   "execution_count": null,
   "metadata": {
    "scrolled": true
   },
   "outputs": [],
   "source": [
    "# Print accuracy on the test set using MLE\n",
    "\n",
    "data_new = train_data.T\n",
    "covar = np.cov(data_new)\n",
    "eigen_values, eigen_vectors = np.linalg.eig(covar)\n",
    "\n",
    "indices = eigen_values.argsort()[ : :-1]\n",
    "indices = indices[ :30]\n",
    "\n",
    "eigen_vectors_new = eigen_vectors[:, indices]\n",
    "new_train = train_data.dot(eigen_vectors_new)\n",
    "new_test = test_data.dot(eigen_vectors_new)\n",
    "\n",
    "res = np.zeros((10, new_test.shape[0]))\n",
    "\n",
    "for i in range(10):\n",
    "    indices = np.where(train_labels == i)\n",
    "    mean = np.mean(new_train[indices], axis = 0)\n",
    "    covar = np.cov(new_train[indices].T)\n",
    "    x = np.dot((new_test - mean), np.linalg.inv(covar))\n",
    "    y = np.dot(x, (new_test - mean).T)\n",
    "    res[i] = np.log(np.linalg.det(covar))/2 + np.diagonal(y)/2\n",
    "\n",
    "mn = np.argmin(res,axis=0)\n",
    "tot = np.sum(np.where(test_labels == mn, 1, 0))\n",
    "print(tot / 10)"
   ]
  },
  {
   "cell_type": "code",
   "execution_count": null,
   "metadata": {},
   "outputs": [],
   "source": [
    "# Print accuracy on the test set using MAP\n",
    "# (assume a reasonable prior and mention it in the comments)\n",
    "\n",
    "data_new = train_data.T\n",
    "covar = np.cov(data_new)\n",
    "eigen_values, eigen_vectors = np.linalg.eig(covar)\n",
    "\n",
    "indices = eigen_values.argsort()[ : :-1]\n",
    "indices = indices[ :30]\n",
    "\n",
    "eigen_vectors_new = eigen_vectors[:, indices]\n",
    "new_train = train_data.dot(eigen_vectors_new)\n",
    "new_test = test_data.dot(eigen_vectors_new)\n",
    "\n",
    "p = [0.13, 0.14, 0.04, 0.03, 0.15, 0.13, 0.05, 0.06, 0.15, 0.12]\n",
    "\n",
    "res = np.zeros((10,new_test.shape[0]))\n",
    "\n",
    "for i in range(10):\n",
    "    indices = np.where(train_labels == i)\n",
    "    mean = np.mean(new_train[indices], axis = 0)\n",
    "    covar = np.cov(new_train[indices].T)\n",
    "    x = np.dot((new_test - mean), np.linalg.inv(covar))\n",
    "    y = np.dot(x, (new_test - mean).T)\n",
    "    res[i] = np.log(np.linalg.det(covar))/2 + np.diagonal(y)/2 - np.log(p[i])\n",
    "\n",
    "mn = np.argmin(res, axis=0)\n",
    "tot = np.sum(np.where(test_labels == mn, 1, 0))\n",
    "print(tot / 10)"
   ]
  },
  {
   "cell_type": "code",
   "execution_count": null,
   "metadata": {},
   "outputs": [],
   "source": [
    "# Print accuracy using Bayesian pairwise majority voting method\n",
    "\n",
    "data_new = train_data.T\n",
    "covar = np.cov(data_new)\n",
    "eigen_values, eigen_vectors = np.linalg.eig(covar)\n",
    "\n",
    "indices = eigen_values.argsort()[ : :-1]\n",
    "indices = indices[ :30]\n",
    "\n",
    "eigen_vectors_new = eigen_vectors[:, indices]\n",
    "new_train = train_data.dot(eigen_vectors_new)\n",
    "new_test = test_data.dot(eigen_vectors_new)\n",
    "\n",
    "covar = np.zeros((10, 30, 30))\n",
    "mean = np.zeros((10, 30))\n",
    "\n",
    "res = np.zeros((10,new_test.shape[0]))\n",
    "\n",
    "for i in range(10):\n",
    "    for j in range(10):\n",
    "        \n",
    "        indices = np.where(train_labels == j)\n",
    "        mean[j] = np.mean(new_train[indices], axis = 0)\n",
    "        covar[j] = np.cov(new_train[indices].T)\n",
    "        \n",
    "        indices = np.where(train_labels == i)\n",
    "        mean[i] = np.mean(new_train[indices], axis = 0)\n",
    "        covar[i] = np.cov(new_train[indices].T)\n",
    "        \n",
    "        covar_total = (covar[j] + covar[i])/2\n",
    "        \n",
    "        x = np.dot((new_test - mean[j]), np.linalg.inv(covar_total))\n",
    "        y = np.dot(x, (new_test - mean[j]).T)\n",
    "        res1 = np.log(np.linalg.det(covar_total))/2 + np.diagonal(y)/2\n",
    "        \n",
    "        x = np.dot((new_test - mean[i]), np.linalg.inv(covar_total))\n",
    "        y = np.dot(x, (new_test - mean[i]).T)\n",
    "        res2 = np.log(np.linalg.det(covar_total))/2 + np.diagonal(y)/2\n",
    "        \n",
    "        res[j] += np.where((res1 - res2) > 0, 1, 0)\n",
    "        res[i] += np.where((res2 - res1) >= 0, 1, 0)\n",
    "        \n",
    "\n",
    "mn = np.argmin(res,axis = 0)\n",
    "tot = np.sum(np.where(test_labels == mn, 1, 0))\n",
    "print(tot / 10)"
   ]
  },
  {
   "cell_type": "code",
   "execution_count": null,
   "metadata": {},
   "outputs": [],
   "source": [
    "# Print accuracy using Simple Perpendicular Bisector majority voting method\n",
    "\n",
    "data_new = train_data.T\n",
    "covar = np.cov(data_new)\n",
    "eigen_values, eigen_vectors = np.linalg.eig(covar)\n",
    "\n",
    "indices = eigen_values.argsort()[ : :-1]\n",
    "indices = indices[ :30]\n",
    "\n",
    "eigen_vectors_new = eigen_vectors[:, indices]\n",
    "new_train = train_data.dot(eigen_vectors_new)\n",
    "new_test = test_data.dot(eigen_vectors_new)\n",
    "\n",
    "covar = np.zeros((10, 30, 30))\n",
    "mean = np.zeros((10, 30))\n",
    "\n",
    "res = np.zeros((10,new_test.shape[0]))\n",
    "\n",
    "for i in range(10):\n",
    "    for j in range(10):\n",
    "        \n",
    "        indices = np.where(train_labels == j)\n",
    "        mean[j] = np.mean(new_train[indices], axis = 0)\n",
    "        covar[j] = np.cov(new_train[indices].T)\n",
    "        \n",
    "        indices = np.where(train_labels == i)\n",
    "        mean[i] = np.mean(new_train[indices], axis = 0)\n",
    "        covar[i] = np.cov(new_train[indices].T)\n",
    "        \n",
    "        covar_total = (covar[j] + covar[i]) / 2\n",
    "        \n",
    "        y = np.dot((new_test - mean[j]), (new_test - mean[j]).T)\n",
    "        res1 = np.diagonal(y)/2\n",
    "        \n",
    "        y = np.dot((new_test - mean[i]), (new_test - mean[i]).T)\n",
    "        res2 = np.diagonal(y)/2\n",
    "        \n",
    "        res[j] += np.where((res1 - res2) > 0, 1, 0)\n",
    "        res[i] += np.where((res2 - res1) >= 0, 1, 0)\n",
    "        \n",
    "\n",
    "mn = np.argmin(res,axis = 0)\n",
    "tot = np.sum(np.where(test_labels == mn, 1, 0))\n",
    "print(tot / 10)"
   ]
  },
  {
   "cell_type": "markdown",
   "metadata": {
    "editable": false
   },
   "source": [
    "### 1.3.3 Question 4\n",
    "Compare performances and salient observations"
   ]
  },
  {
   "cell_type": "markdown",
   "metadata": {},
   "source": [
    "Accuracy with different classifiers:\n",
    "\n",
    "+ MLE : 94.8 - MLE gives the highest accuracy. This is because we take the covariance matrix into complete account and the Mahalnobis distance to find the distance from the classifying hyperplane. \n",
    "+ MAP : 94.6 - MAP shows lower accuracy because we assume the test data is Gaussian with data distributed on the normal random variable class index. Since the data is actually not of that distribution, and we have approximated, we get lower accuracy.\n",
    "+ Bayesian Voting : 88.4 - Bayesian Voting equates the covariance matrix leading to loss of information thus performing poorer.\n",
    "+ Perpendicular Bisector : 75.3 - Since the covariance matrices are not equal, L2 norm is a really bad measure."
   ]
  },
  {
   "cell_type": "markdown",
   "metadata": {
    "editable": false
   },
   "source": [
    "## 1.3.4 Nearest Neighbour based Tasks and Design\n",
    "---\n",
    "### 1.3.4 Question 1 : NN Classification with various K\n",
    "Implement a KNN classifier and print accuracies on the test set with K=1,3,7"
   ]
  },
  {
   "cell_type": "code",
   "execution_count": null,
   "metadata": {},
   "outputs": [],
   "source": [
    "# Your code here\n",
    "# Print accuracies with K = 1, 3, 7\n",
    "\n",
    "dist = np.zeros(shape=(1000,6000))\n",
    "for i in range(len(test_data)):\n",
    "    for j in range(len(train_data)):\n",
    "        dist[i][j] = np.linalg.norm(train_data[j]-test_data[i])\n",
    "\n",
    "for k in [1,3,7]:\n",
    "    predictions = 0\n",
    "    for indices in range(1000):\n",
    "        count_majority_array = [0, 0, 0, 0, 0, 0, 0, 0, 0, 0]\n",
    "        test_sample_dist = np.argsort(dist[indices])[:k]\n",
    "        for k_test_dist in test_sample_dist:\n",
    "            calculated_label = int(train_labels[k_test_dist])\n",
    "            count_majority_array[calculated_label] += 1 \n",
    "        majority_label = np.argsort(count_majority_array)[ : :-1][0]\n",
    "        if majority_label == int(test_labels[indices]):\n",
    "            predictions += 1\n",
    "    accuracy = predictions/10\n",
    "    print(accuracy)"
   ]
  },
  {
   "cell_type": "markdown",
   "metadata": {
    "editable": false
   },
   "source": [
    "### 1.3.4 Question 1 continued\n",
    "- Why / why not are the accuracies the same?\n",
    "- How do we identify the best K? Suggest a computational procedure with a logical explanation."
   ]
  },
  {
   "cell_type": "markdown",
   "metadata": {},
   "source": [
    "The accuracies differ on changing the value of K. \n",
    "\n",
    "When K is 1, we are only looking at the nearest neighbour.\n",
    "As K increases (to 3), we are considering 3 nearest neighbours, which gives us a chance to choose the majority of the K labels that we obtain.\n",
    "When K becomes large, we may be including far away points which will influence our decision making negatively. Hence accuracies change on basis of K. Typically, they first increase with increaisng K, and then decrease.\n",
    "\n",
    "K increases, peaks at maximum accuracy and then decreases. We can adopt a regression approach, start from a random point and keep climbing towards the peak, so find the K with highest accuracy "
   ]
  },
  {
   "cell_type": "markdown",
   "metadata": {
    "editable": false
   },
   "source": [
    "### 1.3.4 Question 2 :  Reverse NN based outlier detection\n",
    "A sample can be thought of as an outlier is it is NOT in the nearest neighbour set of anybody else. Expand this idea into an algorithm."
   ]
  },
  {
   "cell_type": "code",
   "execution_count": null,
   "metadata": {
    "editable": false
   },
   "outputs": [],
   "source": [
    "# This cell reads mixed data containing both MNIST digits and English characters.\n",
    "# The labels for this mixed data are random and are hence ignored.\n",
    "mixed_data, _ = read_data(\"outliers.csv\")\n",
    "print(mixed_data.shape)"
   ]
  },
  {
   "cell_type": "markdown",
   "metadata": {
    "editable": false
   },
   "source": [
    "### 1.3.4 Question 3 : NN for regression\n",
    "Assume that each classID in the train set corresponds to a neatness score as:\n",
    "$$ neatness = \\frac{classID}{10} $$\n",
    "\n",
    "---\n",
    "Assume we had to predict the neatness score for each test sample using NN based techiniques on the train set. Describe the algorithm."
   ]
  },
  {
   "cell_type": "markdown",
   "metadata": {},
   "source": [
    "We compute the K nearest neighbours for a given test sample. Since these are real values between 0 and 1, and not discrete values unlike ClassIds, we cannot count the majority. \n",
    "Instead, Take a mean of these values, and then calculate the accuracy in terms of mean absolute error of the predicted value with the actual value (take the absolute difference between the two for every sample, add them and divide by number of samples in test data)."
   ]
  },
  {
   "cell_type": "markdown",
   "metadata": {
    "editable": false
   },
   "source": [
    "### 1.3.4 Question 3 continued\n",
    "Validate your algorithm on the test set. This code should print mean absolute error on the test set, using the train set for NN based regression."
   ]
  },
  {
   "cell_type": "code",
   "execution_count": null,
   "metadata": {},
   "outputs": [],
   "source": [
    "# Your code here\n",
    "\n",
    "dist_neat = np.zeros(shape=(1000,6000))\n",
    "for i in range(len(test_data)):\n",
    "    for j in range(len(train_data)):\n",
    "        dist_neat[i][j]=np.linalg.norm(train_data[j]-test_data[i])\n",
    "        \n",
    "k = 5\n",
    "abs_error = 0\n",
    "for indices in range(1000):\n",
    "    sum_values = 0\n",
    "    test_sample_dist = np.argsort(dist_neat[indices])[ :k]\n",
    "    for index in test_sample_dist:\n",
    "        sum_values += train_labels[index]/10\n",
    "    predicted_value = sum_values/k \n",
    "    abs_error += abs(predicted_value - test_labels[indices]/10)\n",
    "print(abs_error/1000) "
   ]
  },
  {
   "cell_type": "markdown",
   "metadata": {
    "editable": false
   },
   "source": [
    "---\n",
    "# FOLLOW THE SUBMISSION INSTRUCTIONS\n",
    "---"
   ]
  }
 ],
 "metadata": {
  "kernelspec": {
   "display_name": "Python 3",
   "language": "python",
   "name": "python3"
  },
  "language_info": {
   "codemirror_mode": {
    "name": "ipython",
    "version": 3
   },
   "file_extension": ".py",
   "mimetype": "text/x-python",
   "name": "python",
   "nbconvert_exporter": "python",
   "pygments_lexer": "ipython3",
   "version": "3.6.11"
  }
 },
 "nbformat": 4,
 "nbformat_minor": 2
}
